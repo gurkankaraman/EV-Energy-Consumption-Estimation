{
  "nbformat": 4,
  "nbformat_minor": 0,
  "metadata": {
    "colab": {
      "provenance": []
    },
    "kernelspec": {
      "name": "python3",
      "display_name": "Python 3"
    },
    "language_info": {
      "name": "python"
    }
  },
  "cells": [
    {
      "cell_type": "markdown",
      "source": [
        "# Random Forest"
      ],
      "metadata": {
        "id": "ucqPgAkQvcy1"
      }
    },
    {
      "cell_type": "markdown",
      "source": [
        "Neden Random Forest ?\n",
        "* Non-Linearty : Doğrusal olmayan ilişkileri yakalama\n",
        "* Overfitting riskinin azalması : Her bir karar ağacı, veri setinin rastgele seçilmiş bir alt kümesi üzerinde eğitilir.\n",
        "* Feature Importance Belirleme : Enerji tüketimini en çok etkileyen faktörlerin hangileri olduğunu doğrulayabilir."
      ],
      "metadata": {
        "id": "sVaxl0o5un6o"
      }
    },
    {
      "cell_type": "code",
      "source": [
        "import seaborn as sns\n",
        "import pandas as pd\n",
        "import numpy as np\n",
        "import matplotlib.pyplot as plt"
      ],
      "metadata": {
        "id": "xpQqQK14Pxqo"
      },
      "execution_count": 106,
      "outputs": []
    },
    {
      "cell_type": "code",
      "source": [
        "df = pd.read_csv('final_training_data.csv')\n",
        "df.head(3)"
      ],
      "metadata": {
        "colab": {
          "base_uri": "https://localhost:8080/",
          "height": 193
        },
        "id": "JRlsj1egTntN",
        "outputId": "f56ca1d5-9172-41a9-fa6a-e8fabcd5ab8e"
      },
      "execution_count": 107,
      "outputs": [
        {
          "output_type": "execute_result",
          "data": {
            "text/plain": [
              "   timestamp vehicle_id  speed_kmh        lat        lon      z  acceleration  \\\n",
              "0          2       veh1      0.000  39.749175  30.508940  822.0          0.00   \n",
              "1          3       veh1     14.112  39.749195  30.508903  822.0          3.92   \n",
              "2          4       veh1     28.224  39.749237  30.508829  822.0          3.92   \n",
              "\n",
              "   mass_kg     soc_pc  energy_consumption  ...  \\\n",
              "0   1958.0  96.554181                0.00  ...   \n",
              "1   1958.0  96.549121                4.90  ...   \n",
              "2   1958.0  96.534407               14.25  ...   \n",
              "\n",
              "   device.battery.maximumChargeRate  recuperationEfficiency  \\\n",
              "0                          144211.0                    0.94   \n",
              "1                          144211.0                    0.94   \n",
              "2                          144211.0                    0.94   \n",
              "\n",
              "   rollDragCoefficient  constantPowerIntake  rotatingMass  airDragCoefficient  \\\n",
              "0                 0.01                484.0          39.0               0.344   \n",
              "1                 0.01                484.0          39.0               0.344   \n",
              "2                 0.01                484.0          39.0               0.344   \n",
              "\n",
              "   maximumPower  propulsionEfficiency    dist_m  slope_pct  \n",
              "0      193684.0                  0.94       NaN        NaN  \n",
              "1      193684.0                  0.94  3.914897        0.0  \n",
              "2      193684.0                  0.94  7.829794        0.0  \n",
              "\n",
              "[3 rows x 25 columns]"
            ],
            "text/html": [
              "\n",
              "  <div id=\"df-e67c7e91-6499-4fef-9530-bf3680e290de\" class=\"colab-df-container\">\n",
              "    <div>\n",
              "<style scoped>\n",
              "    .dataframe tbody tr th:only-of-type {\n",
              "        vertical-align: middle;\n",
              "    }\n",
              "\n",
              "    .dataframe tbody tr th {\n",
              "        vertical-align: top;\n",
              "    }\n",
              "\n",
              "    .dataframe thead th {\n",
              "        text-align: right;\n",
              "    }\n",
              "</style>\n",
              "<table border=\"1\" class=\"dataframe\">\n",
              "  <thead>\n",
              "    <tr style=\"text-align: right;\">\n",
              "      <th></th>\n",
              "      <th>timestamp</th>\n",
              "      <th>vehicle_id</th>\n",
              "      <th>speed_kmh</th>\n",
              "      <th>lat</th>\n",
              "      <th>lon</th>\n",
              "      <th>z</th>\n",
              "      <th>acceleration</th>\n",
              "      <th>mass_kg</th>\n",
              "      <th>soc_pc</th>\n",
              "      <th>energy_consumption</th>\n",
              "      <th>...</th>\n",
              "      <th>device.battery.maximumChargeRate</th>\n",
              "      <th>recuperationEfficiency</th>\n",
              "      <th>rollDragCoefficient</th>\n",
              "      <th>constantPowerIntake</th>\n",
              "      <th>rotatingMass</th>\n",
              "      <th>airDragCoefficient</th>\n",
              "      <th>maximumPower</th>\n",
              "      <th>propulsionEfficiency</th>\n",
              "      <th>dist_m</th>\n",
              "      <th>slope_pct</th>\n",
              "    </tr>\n",
              "  </thead>\n",
              "  <tbody>\n",
              "    <tr>\n",
              "      <th>0</th>\n",
              "      <td>2</td>\n",
              "      <td>veh1</td>\n",
              "      <td>0.000</td>\n",
              "      <td>39.749175</td>\n",
              "      <td>30.508940</td>\n",
              "      <td>822.0</td>\n",
              "      <td>0.00</td>\n",
              "      <td>1958.0</td>\n",
              "      <td>96.554181</td>\n",
              "      <td>0.00</td>\n",
              "      <td>...</td>\n",
              "      <td>144211.0</td>\n",
              "      <td>0.94</td>\n",
              "      <td>0.01</td>\n",
              "      <td>484.0</td>\n",
              "      <td>39.0</td>\n",
              "      <td>0.344</td>\n",
              "      <td>193684.0</td>\n",
              "      <td>0.94</td>\n",
              "      <td>NaN</td>\n",
              "      <td>NaN</td>\n",
              "    </tr>\n",
              "    <tr>\n",
              "      <th>1</th>\n",
              "      <td>3</td>\n",
              "      <td>veh1</td>\n",
              "      <td>14.112</td>\n",
              "      <td>39.749195</td>\n",
              "      <td>30.508903</td>\n",
              "      <td>822.0</td>\n",
              "      <td>3.92</td>\n",
              "      <td>1958.0</td>\n",
              "      <td>96.549121</td>\n",
              "      <td>4.90</td>\n",
              "      <td>...</td>\n",
              "      <td>144211.0</td>\n",
              "      <td>0.94</td>\n",
              "      <td>0.01</td>\n",
              "      <td>484.0</td>\n",
              "      <td>39.0</td>\n",
              "      <td>0.344</td>\n",
              "      <td>193684.0</td>\n",
              "      <td>0.94</td>\n",
              "      <td>3.914897</td>\n",
              "      <td>0.0</td>\n",
              "    </tr>\n",
              "    <tr>\n",
              "      <th>2</th>\n",
              "      <td>4</td>\n",
              "      <td>veh1</td>\n",
              "      <td>28.224</td>\n",
              "      <td>39.749237</td>\n",
              "      <td>30.508829</td>\n",
              "      <td>822.0</td>\n",
              "      <td>3.92</td>\n",
              "      <td>1958.0</td>\n",
              "      <td>96.534407</td>\n",
              "      <td>14.25</td>\n",
              "      <td>...</td>\n",
              "      <td>144211.0</td>\n",
              "      <td>0.94</td>\n",
              "      <td>0.01</td>\n",
              "      <td>484.0</td>\n",
              "      <td>39.0</td>\n",
              "      <td>0.344</td>\n",
              "      <td>193684.0</td>\n",
              "      <td>0.94</td>\n",
              "      <td>7.829794</td>\n",
              "      <td>0.0</td>\n",
              "    </tr>\n",
              "  </tbody>\n",
              "</table>\n",
              "<p>3 rows × 25 columns</p>\n",
              "</div>\n",
              "    <div class=\"colab-df-buttons\">\n",
              "\n",
              "  <div class=\"colab-df-container\">\n",
              "    <button class=\"colab-df-convert\" onclick=\"convertToInteractive('df-e67c7e91-6499-4fef-9530-bf3680e290de')\"\n",
              "            title=\"Convert this dataframe to an interactive table.\"\n",
              "            style=\"display:none;\">\n",
              "\n",
              "  <svg xmlns=\"http://www.w3.org/2000/svg\" height=\"24px\" viewBox=\"0 -960 960 960\">\n",
              "    <path d=\"M120-120v-720h720v720H120Zm60-500h600v-160H180v160Zm220 220h160v-160H400v160Zm0 220h160v-160H400v160ZM180-400h160v-160H180v160Zm440 0h160v-160H620v160ZM180-180h160v-160H180v160Zm440 0h160v-160H620v160Z\"/>\n",
              "  </svg>\n",
              "    </button>\n",
              "\n",
              "  <style>\n",
              "    .colab-df-container {\n",
              "      display:flex;\n",
              "      gap: 12px;\n",
              "    }\n",
              "\n",
              "    .colab-df-convert {\n",
              "      background-color: #E8F0FE;\n",
              "      border: none;\n",
              "      border-radius: 50%;\n",
              "      cursor: pointer;\n",
              "      display: none;\n",
              "      fill: #1967D2;\n",
              "      height: 32px;\n",
              "      padding: 0 0 0 0;\n",
              "      width: 32px;\n",
              "    }\n",
              "\n",
              "    .colab-df-convert:hover {\n",
              "      background-color: #E2EBFA;\n",
              "      box-shadow: 0px 1px 2px rgba(60, 64, 67, 0.3), 0px 1px 3px 1px rgba(60, 64, 67, 0.15);\n",
              "      fill: #174EA6;\n",
              "    }\n",
              "\n",
              "    .colab-df-buttons div {\n",
              "      margin-bottom: 4px;\n",
              "    }\n",
              "\n",
              "    [theme=dark] .colab-df-convert {\n",
              "      background-color: #3B4455;\n",
              "      fill: #D2E3FC;\n",
              "    }\n",
              "\n",
              "    [theme=dark] .colab-df-convert:hover {\n",
              "      background-color: #434B5C;\n",
              "      box-shadow: 0px 1px 3px 1px rgba(0, 0, 0, 0.15);\n",
              "      filter: drop-shadow(0px 1px 2px rgba(0, 0, 0, 0.3));\n",
              "      fill: #FFFFFF;\n",
              "    }\n",
              "  </style>\n",
              "\n",
              "    <script>\n",
              "      const buttonEl =\n",
              "        document.querySelector('#df-e67c7e91-6499-4fef-9530-bf3680e290de button.colab-df-convert');\n",
              "      buttonEl.style.display =\n",
              "        google.colab.kernel.accessAllowed ? 'block' : 'none';\n",
              "\n",
              "      async function convertToInteractive(key) {\n",
              "        const element = document.querySelector('#df-e67c7e91-6499-4fef-9530-bf3680e290de');\n",
              "        const dataTable =\n",
              "          await google.colab.kernel.invokeFunction('convertToInteractive',\n",
              "                                                    [key], {});\n",
              "        if (!dataTable) return;\n",
              "\n",
              "        const docLinkHtml = 'Like what you see? Visit the ' +\n",
              "          '<a target=\"_blank\" href=https://colab.research.google.com/notebooks/data_table.ipynb>data table notebook</a>'\n",
              "          + ' to learn more about interactive tables.';\n",
              "        element.innerHTML = '';\n",
              "        dataTable['output_type'] = 'display_data';\n",
              "        await google.colab.output.renderOutput(dataTable, element);\n",
              "        const docLink = document.createElement('div');\n",
              "        docLink.innerHTML = docLinkHtml;\n",
              "        element.appendChild(docLink);\n",
              "      }\n",
              "    </script>\n",
              "  </div>\n",
              "\n",
              "\n",
              "    <div id=\"df-086c1ead-50cb-49ac-b105-2c092165579d\">\n",
              "      <button class=\"colab-df-quickchart\" onclick=\"quickchart('df-086c1ead-50cb-49ac-b105-2c092165579d')\"\n",
              "                title=\"Suggest charts\"\n",
              "                style=\"display:none;\">\n",
              "\n",
              "<svg xmlns=\"http://www.w3.org/2000/svg\" height=\"24px\"viewBox=\"0 0 24 24\"\n",
              "     width=\"24px\">\n",
              "    <g>\n",
              "        <path d=\"M19 3H5c-1.1 0-2 .9-2 2v14c0 1.1.9 2 2 2h14c1.1 0 2-.9 2-2V5c0-1.1-.9-2-2-2zM9 17H7v-7h2v7zm4 0h-2V7h2v10zm4 0h-2v-4h2v4z\"/>\n",
              "    </g>\n",
              "</svg>\n",
              "      </button>\n",
              "\n",
              "<style>\n",
              "  .colab-df-quickchart {\n",
              "      --bg-color: #E8F0FE;\n",
              "      --fill-color: #1967D2;\n",
              "      --hover-bg-color: #E2EBFA;\n",
              "      --hover-fill-color: #174EA6;\n",
              "      --disabled-fill-color: #AAA;\n",
              "      --disabled-bg-color: #DDD;\n",
              "  }\n",
              "\n",
              "  [theme=dark] .colab-df-quickchart {\n",
              "      --bg-color: #3B4455;\n",
              "      --fill-color: #D2E3FC;\n",
              "      --hover-bg-color: #434B5C;\n",
              "      --hover-fill-color: #FFFFFF;\n",
              "      --disabled-bg-color: #3B4455;\n",
              "      --disabled-fill-color: #666;\n",
              "  }\n",
              "\n",
              "  .colab-df-quickchart {\n",
              "    background-color: var(--bg-color);\n",
              "    border: none;\n",
              "    border-radius: 50%;\n",
              "    cursor: pointer;\n",
              "    display: none;\n",
              "    fill: var(--fill-color);\n",
              "    height: 32px;\n",
              "    padding: 0;\n",
              "    width: 32px;\n",
              "  }\n",
              "\n",
              "  .colab-df-quickchart:hover {\n",
              "    background-color: var(--hover-bg-color);\n",
              "    box-shadow: 0 1px 2px rgba(60, 64, 67, 0.3), 0 1px 3px 1px rgba(60, 64, 67, 0.15);\n",
              "    fill: var(--button-hover-fill-color);\n",
              "  }\n",
              "\n",
              "  .colab-df-quickchart-complete:disabled,\n",
              "  .colab-df-quickchart-complete:disabled:hover {\n",
              "    background-color: var(--disabled-bg-color);\n",
              "    fill: var(--disabled-fill-color);\n",
              "    box-shadow: none;\n",
              "  }\n",
              "\n",
              "  .colab-df-spinner {\n",
              "    border: 2px solid var(--fill-color);\n",
              "    border-color: transparent;\n",
              "    border-bottom-color: var(--fill-color);\n",
              "    animation:\n",
              "      spin 1s steps(1) infinite;\n",
              "  }\n",
              "\n",
              "  @keyframes spin {\n",
              "    0% {\n",
              "      border-color: transparent;\n",
              "      border-bottom-color: var(--fill-color);\n",
              "      border-left-color: var(--fill-color);\n",
              "    }\n",
              "    20% {\n",
              "      border-color: transparent;\n",
              "      border-left-color: var(--fill-color);\n",
              "      border-top-color: var(--fill-color);\n",
              "    }\n",
              "    30% {\n",
              "      border-color: transparent;\n",
              "      border-left-color: var(--fill-color);\n",
              "      border-top-color: var(--fill-color);\n",
              "      border-right-color: var(--fill-color);\n",
              "    }\n",
              "    40% {\n",
              "      border-color: transparent;\n",
              "      border-right-color: var(--fill-color);\n",
              "      border-top-color: var(--fill-color);\n",
              "    }\n",
              "    60% {\n",
              "      border-color: transparent;\n",
              "      border-right-color: var(--fill-color);\n",
              "    }\n",
              "    80% {\n",
              "      border-color: transparent;\n",
              "      border-right-color: var(--fill-color);\n",
              "      border-bottom-color: var(--fill-color);\n",
              "    }\n",
              "    90% {\n",
              "      border-color: transparent;\n",
              "      border-bottom-color: var(--fill-color);\n",
              "    }\n",
              "  }\n",
              "</style>\n",
              "\n",
              "      <script>\n",
              "        async function quickchart(key) {\n",
              "          const quickchartButtonEl =\n",
              "            document.querySelector('#' + key + ' button');\n",
              "          quickchartButtonEl.disabled = true;  // To prevent multiple clicks.\n",
              "          quickchartButtonEl.classList.add('colab-df-spinner');\n",
              "          try {\n",
              "            const charts = await google.colab.kernel.invokeFunction(\n",
              "                'suggestCharts', [key], {});\n",
              "          } catch (error) {\n",
              "            console.error('Error during call to suggestCharts:', error);\n",
              "          }\n",
              "          quickchartButtonEl.classList.remove('colab-df-spinner');\n",
              "          quickchartButtonEl.classList.add('colab-df-quickchart-complete');\n",
              "        }\n",
              "        (() => {\n",
              "          let quickchartButtonEl =\n",
              "            document.querySelector('#df-086c1ead-50cb-49ac-b105-2c092165579d button');\n",
              "          quickchartButtonEl.style.display =\n",
              "            google.colab.kernel.accessAllowed ? 'block' : 'none';\n",
              "        })();\n",
              "      </script>\n",
              "    </div>\n",
              "\n",
              "    </div>\n",
              "  </div>\n"
            ],
            "application/vnd.google.colaboratory.intrinsic+json": {
              "type": "dataframe",
              "variable_name": "df"
            }
          },
          "metadata": {},
          "execution_count": 107
        }
      ]
    },
    {
      "cell_type": "code",
      "source": [
        "print(\"Orijinal veri boyutu:\", df.shape)\n",
        "print(\"Araç sayısı:\", df['vehicle_id'].nunique())\n",
        "print(\"Eksik veri durumu:\")\n",
        "print(df.isnull().sum())"
      ],
      "metadata": {
        "colab": {
          "base_uri": "https://localhost:8080/"
        },
        "id": "iWk6zM8ZNnZ3",
        "outputId": "98e320e2-47ac-48d6-d836-6283664cd44e"
      },
      "execution_count": 108,
      "outputs": [
        {
          "output_type": "stream",
          "name": "stdout",
          "text": [
            "Orijinal veri boyutu: (167210, 25)\n",
            "Araç sayısı: 1500\n",
            "Eksik veri durumu:\n",
            "timestamp                               0\n",
            "vehicle_id                              0\n",
            "speed_kmh                               0\n",
            "lat                                     0\n",
            "lon                                     0\n",
            "z                                       0\n",
            "acceleration                            0\n",
            "mass_kg                                 0\n",
            "soc_pc                                  0\n",
            "energy_consumption                      0\n",
            "accel                                   0\n",
            "decel                                   0\n",
            "radialDragCoefficient                   0\n",
            "frontSurfaceArea                        0\n",
            "device.battery.capacity                 0\n",
            "device.battery.maximumChargeRate        0\n",
            "recuperationEfficiency                  0\n",
            "rollDragCoefficient                     0\n",
            "constantPowerIntake                     0\n",
            "rotatingMass                            0\n",
            "airDragCoefficient                      0\n",
            "maximumPower                            0\n",
            "propulsionEfficiency                    0\n",
            "dist_m                               1500\n",
            "slope_pct                           27936\n",
            "dtype: int64\n"
          ]
        }
      ]
    },
    {
      "cell_type": "code",
      "source": [
        "# 'dist_m' sütunundaki NaN değerleri 0 ile doldurur\n",
        "df['dist_m'] = df['dist_m'].fillna(0)\n",
        "\n",
        "# 'slope_pct' sütunundaki NaN değerleri 0 ile doldurur\n",
        "df['slope_pct'] = df['slope_pct'].fillna(0)"
      ],
      "metadata": {
        "id": "uu8Tf3L0rGbi"
      },
      "execution_count": 109,
      "outputs": []
    },
    {
      "cell_type": "code",
      "source": [
        "print(df.isnull().sum())"
      ],
      "metadata": {
        "colab": {
          "base_uri": "https://localhost:8080/"
        },
        "id": "cDpsrTdsrYQU",
        "outputId": "dae138b4-683d-46aa-aaee-c234388b3733"
      },
      "execution_count": 111,
      "outputs": [
        {
          "output_type": "stream",
          "name": "stdout",
          "text": [
            "timestamp                           0\n",
            "vehicle_id                          0\n",
            "speed_kmh                           0\n",
            "lat                                 0\n",
            "lon                                 0\n",
            "z                                   0\n",
            "acceleration                        0\n",
            "mass_kg                             0\n",
            "soc_pc                              0\n",
            "energy_consumption                  0\n",
            "accel                               0\n",
            "decel                               0\n",
            "radialDragCoefficient               0\n",
            "frontSurfaceArea                    0\n",
            "device.battery.capacity             0\n",
            "device.battery.maximumChargeRate    0\n",
            "recuperationEfficiency              0\n",
            "rollDragCoefficient                 0\n",
            "constantPowerIntake                 0\n",
            "rotatingMass                        0\n",
            "airDragCoefficient                  0\n",
            "maximumPower                        0\n",
            "propulsionEfficiency                0\n",
            "dist_m                              0\n",
            "slope_pct                           0\n",
            "dtype: int64\n"
          ]
        }
      ]
    },
    {
      "cell_type": "code",
      "source": [
        "df.info()"
      ],
      "metadata": {
        "colab": {
          "base_uri": "https://localhost:8080/"
        },
        "id": "vm5U6d2RQP0V",
        "outputId": "379a294a-f914-43cf-ba94-48a3f9dfb83a"
      },
      "execution_count": 110,
      "outputs": [
        {
          "output_type": "stream",
          "name": "stdout",
          "text": [
            "<class 'pandas.core.frame.DataFrame'>\n",
            "RangeIndex: 167210 entries, 0 to 167209\n",
            "Data columns (total 25 columns):\n",
            " #   Column                            Non-Null Count   Dtype  \n",
            "---  ------                            --------------   -----  \n",
            " 0   timestamp                         167210 non-null  int64  \n",
            " 1   vehicle_id                        167210 non-null  object \n",
            " 2   speed_kmh                         167210 non-null  float64\n",
            " 3   lat                               167210 non-null  float64\n",
            " 4   lon                               167210 non-null  float64\n",
            " 5   z                                 167210 non-null  float64\n",
            " 6   acceleration                      167210 non-null  float64\n",
            " 7   mass_kg                           167210 non-null  float64\n",
            " 8   soc_pc                            167210 non-null  float64\n",
            " 9   energy_consumption                167210 non-null  float64\n",
            " 10  accel                             167210 non-null  float64\n",
            " 11  decel                             167210 non-null  float64\n",
            " 12  radialDragCoefficient             167210 non-null  float64\n",
            " 13  frontSurfaceArea                  167210 non-null  float64\n",
            " 14  device.battery.capacity           167210 non-null  float64\n",
            " 15  device.battery.maximumChargeRate  167210 non-null  float64\n",
            " 16  recuperationEfficiency            167210 non-null  float64\n",
            " 17  rollDragCoefficient               167210 non-null  float64\n",
            " 18  constantPowerIntake               167210 non-null  float64\n",
            " 19  rotatingMass                      167210 non-null  float64\n",
            " 20  airDragCoefficient                167210 non-null  float64\n",
            " 21  maximumPower                      167210 non-null  float64\n",
            " 22  propulsionEfficiency              167210 non-null  float64\n",
            " 23  dist_m                            167210 non-null  float64\n",
            " 24  slope_pct                         167210 non-null  float64\n",
            "dtypes: float64(23), int64(1), object(1)\n",
            "memory usage: 31.9+ MB\n"
          ]
        }
      ]
    },
    {
      "cell_type": "code",
      "source": [
        "# ivme ayrımı\n",
        "# bu sayede enerji tüketimi (hızlanırken) ve rejeneratif enerji kazanımı (yavaşlarken) ayrı ayrı analiz edilebilir.\n",
        "# verimlilik hesaplarını ve optimizasyonu daha doğru yapmayı sağlar\n",
        "# Pozitif ivme (gaz) tüketimi artırır; negatif ivme (fren/iniş) rejenerasyon sağlayabilir. Tek sütun olsa bu fark kaybolabilirdi\n",
        "df[\"acc_pos\"] = df[\"acceleration\"].clip(lower=0)\n",
        "df[\"acc_neg\"] = (-df[\"acceleration\"]).clip(lower=0)"
      ],
      "metadata": {
        "id": "G8vfiJnWOSeo"
      },
      "execution_count": 112,
      "outputs": []
    },
    {
      "cell_type": "code",
      "source": [
        "# Hız: m/s ve v^2\n",
        "df[\"speed_ms\"] = df[\"speed_kmh\"] / 3.6\n",
        "\n",
        "# Aerodinamik: Cd * A\n",
        "df[\"CdA\"] = df[\"airDragCoefficient\"] * df[\"frontSurfaceArea\"] # bu ikini birleştirip vermek daha mantıklı\n",
        "\n",
        "#df[\"target_Wh_per_km\"] = df[\"energy_consumption\"] / (df[\"dist_m\"] / 1000.0)"
      ],
      "metadata": {
        "id": "gqYqAZRuUHiY"
      },
      "execution_count": 113,
      "outputs": []
    },
    {
      "cell_type": "code",
      "source": [
        "columns_to_drop = [\n",
        "    'timestamp',  # Zaman bilgisi\n",
        "    'lat', 'lon', 'z',  # GPS koordinatları\n",
        "    'accel','decel', 'acceleration',\n",
        "    'speed_kmh',\n",
        "    'device.battery.capacity',\n",
        "    'airDragCoefficient', 'frontSurfaceArea',\n",
        "\n",
        "]\n",
        "df = df.drop(columns=columns_to_drop)"
      ],
      "metadata": {
        "id": "ajMXAI8ChW2V"
      },
      "execution_count": 114,
      "outputs": []
    },
    {
      "cell_type": "code",
      "source": [
        "df.shape"
      ],
      "metadata": {
        "colab": {
          "base_uri": "https://localhost:8080/"
        },
        "id": "cSZ_9LZfXArU",
        "outputId": "992e7077-d25f-4074-f142-80facf0225fe"
      },
      "execution_count": 115,
      "outputs": [
        {
          "output_type": "execute_result",
          "data": {
            "text/plain": [
              "(167210, 18)"
            ]
          },
          "metadata": {},
          "execution_count": 115
        }
      ]
    },
    {
      "cell_type": "code",
      "source": [
        "df.info()"
      ],
      "metadata": {
        "colab": {
          "base_uri": "https://localhost:8080/"
        },
        "id": "0GQzle_AhvdH",
        "outputId": "92e44826-0304-4835-fc23-108ae45bc698"
      },
      "execution_count": 116,
      "outputs": [
        {
          "output_type": "stream",
          "name": "stdout",
          "text": [
            "<class 'pandas.core.frame.DataFrame'>\n",
            "RangeIndex: 167210 entries, 0 to 167209\n",
            "Data columns (total 18 columns):\n",
            " #   Column                            Non-Null Count   Dtype  \n",
            "---  ------                            --------------   -----  \n",
            " 0   vehicle_id                        167210 non-null  object \n",
            " 1   mass_kg                           167210 non-null  float64\n",
            " 2   soc_pc                            167210 non-null  float64\n",
            " 3   energy_consumption                167210 non-null  float64\n",
            " 4   radialDragCoefficient             167210 non-null  float64\n",
            " 5   device.battery.maximumChargeRate  167210 non-null  float64\n",
            " 6   recuperationEfficiency            167210 non-null  float64\n",
            " 7   rollDragCoefficient               167210 non-null  float64\n",
            " 8   constantPowerIntake               167210 non-null  float64\n",
            " 9   rotatingMass                      167210 non-null  float64\n",
            " 10  maximumPower                      167210 non-null  float64\n",
            " 11  propulsionEfficiency              167210 non-null  float64\n",
            " 12  dist_m                            167210 non-null  float64\n",
            " 13  slope_pct                         167210 non-null  float64\n",
            " 14  acc_pos                           167210 non-null  float64\n",
            " 15  acc_neg                           167210 non-null  float64\n",
            " 16  speed_ms                          167210 non-null  float64\n",
            " 17  CdA                               167210 non-null  float64\n",
            "dtypes: float64(17), object(1)\n",
            "memory usage: 23.0+ MB\n"
          ]
        }
      ]
    },
    {
      "cell_type": "code",
      "source": [
        "# aynı araca ait satırların train/val/test’e karışmamasını sağlar. Yani vehicle_id bazlı ayırır; veri sızıntısını (leakage) önler.\n",
        "from sklearn.model_selection import GroupShuffleSplit\n",
        "\n",
        "groups = df[\"vehicle_id\"]\n",
        "\n",
        "X = df.drop(columns=[ \"vehicle_id\", \"energy_consumption\"])\n",
        "y = df[\"energy_consumption\"]\n",
        "\n",
        "\n",
        "# GroupShuffleSplit ile önce test setini ayırıyor. Bu aşamada bir araca ait tüm satırlar ya testte ya da train+val tarafında kalır; asla bölünmez.\n",
        "def group_split(X, y, groups, test_size=0.15, val_size=0.15, rs=42):\n",
        "    \"\"\"\n",
        "    X, y ve groups'u alır; önce TEST setini, sonra kalan içinden VALIDATION setini ayırır.\n",
        "    NOT: Aynı 'vehicle_id'ye ait TÜM satırlar ya train/val tarafında kalır ya da testte olur;\n",
        "         asla bir araca ait satırlar birden fazla parçaya bölünmez.\n",
        "    \"\"\"\n",
        "    gss = GroupShuffleSplit(n_splits=1, test_size=test_size, random_state=rs)\n",
        "    i_tr, i_te = next(gss.split(X, y, groups))\n",
        "    gss2 = GroupShuffleSplit(n_splits=1, test_size=val_size/(1-test_size), random_state=rs)\n",
        "    j_tr, j_val = next(gss2.split(X.iloc[i_tr], y.iloc[i_tr], groups.iloc[i_tr]))\n",
        "    tr_idx = X.iloc[i_tr].index[j_tr]; val_idx = X.iloc[i_tr].index[j_val]; te_idx = X.index[i_te]\n",
        "    return tr_idx, val_idx, te_idx\n",
        "\n",
        "train_idx, val_idx, test_idx = group_split(X, y, groups)\n",
        "X_train, y_train = X.loc[train_idx], y.loc[train_idx]\n",
        "X_val,   y_val   = X.loc[val_idx],   y.loc[val_idx]\n",
        "X_test,  y_test  = X.loc[test_idx],  y.loc[test_idx]\n",
        "print(f\"Split -> train:{len(train_idx)}, val:{len(val_idx)}, test:{len(test_idx)}\")\n"
      ],
      "metadata": {
        "colab": {
          "base_uri": "https://localhost:8080/"
        },
        "id": "X6bNtnFrXO6L",
        "outputId": "d5a86256-2981-4d12-aa7a-9c5262af1587"
      },
      "execution_count": 117,
      "outputs": [
        {
          "output_type": "stream",
          "name": "stdout",
          "text": [
            "Split -> train:117819, val:24728, test:24663\n"
          ]
        }
      ]
    },
    {
      "cell_type": "code",
      "source": [
        "X.info()"
      ],
      "metadata": {
        "colab": {
          "base_uri": "https://localhost:8080/"
        },
        "id": "U7JF7hRLn8wT",
        "outputId": "5abf90d5-6cea-4aa6-9d78-4ac33227651d"
      },
      "execution_count": 118,
      "outputs": [
        {
          "output_type": "stream",
          "name": "stdout",
          "text": [
            "<class 'pandas.core.frame.DataFrame'>\n",
            "RangeIndex: 167210 entries, 0 to 167209\n",
            "Data columns (total 16 columns):\n",
            " #   Column                            Non-Null Count   Dtype  \n",
            "---  ------                            --------------   -----  \n",
            " 0   mass_kg                           167210 non-null  float64\n",
            " 1   soc_pc                            167210 non-null  float64\n",
            " 2   radialDragCoefficient             167210 non-null  float64\n",
            " 3   device.battery.maximumChargeRate  167210 non-null  float64\n",
            " 4   recuperationEfficiency            167210 non-null  float64\n",
            " 5   rollDragCoefficient               167210 non-null  float64\n",
            " 6   constantPowerIntake               167210 non-null  float64\n",
            " 7   rotatingMass                      167210 non-null  float64\n",
            " 8   maximumPower                      167210 non-null  float64\n",
            " 9   propulsionEfficiency              167210 non-null  float64\n",
            " 10  dist_m                            167210 non-null  float64\n",
            " 11  slope_pct                         167210 non-null  float64\n",
            " 12  acc_pos                           167210 non-null  float64\n",
            " 13  acc_neg                           167210 non-null  float64\n",
            " 14  speed_ms                          167210 non-null  float64\n",
            " 15  CdA                               167210 non-null  float64\n",
            "dtypes: float64(16)\n",
            "memory usage: 20.4 MB\n"
          ]
        }
      ]
    },
    {
      "cell_type": "code",
      "source": [
        "from sklearn.ensemble import RandomForestRegressor\n",
        "from sklearn.metrics import mean_absolute_error, mean_squared_error,  r2_score"
      ],
      "metadata": {
        "id": "AcXohZg-fX3X"
      },
      "execution_count": 119,
      "outputs": []
    },
    {
      "cell_type": "code",
      "source": [
        "rf_model = RandomForestRegressor(\n",
        "    n_estimators=100,\n",
        "    max_depth=10,\n",
        "    min_samples_split=5,\n",
        "    min_samples_leaf=2,\n",
        "    random_state=42,\n",
        "    n_jobs=-1\n",
        ")# n_estimators: Ormandaki ağaç sayısı\n",
        "print(\"\\nRandom Forest modeli eğitiliyor...\")\n",
        "rf_model.fit(X_train, y_train)\n",
        "print(\"Model eğitimi tamamlandı.\")\n"
      ],
      "metadata": {
        "colab": {
          "base_uri": "https://localhost:8080/"
        },
        "id": "a78F1-SYTP1e",
        "outputId": "dbb255ac-69ff-4c97-cced-19a51f25910b"
      },
      "execution_count": 120,
      "outputs": [
        {
          "output_type": "stream",
          "name": "stdout",
          "text": [
            "\n",
            "Random Forest modeli eğitiliyor...\n",
            "Model eğitimi tamamlandı.\n"
          ]
        }
      ]
    },
    {
      "cell_type": "code",
      "source": [
        "# Validation ve Test tahminleri\n",
        "y_val_pred = rf_model.predict(X_val)\n",
        "y_test_pred = rf_model.predict(X_test)"
      ],
      "metadata": {
        "id": "Yg18kGpNTYyy"
      },
      "execution_count": 121,
      "outputs": []
    },
    {
      "cell_type": "code",
      "source": [
        "# --- MSE ve RMSE ---\n",
        "mse_val = mean_squared_error(y_val, y_val_pred)\n",
        "rmse_val = np.sqrt(mse_val)\n",
        "r2_val = r2_score(y_val, y_val_pred)\n",
        "\n",
        "\n",
        "mse_test = mean_squared_error(y_test, y_test_pred)\n",
        "rmse_test = np.sqrt(mse_test)\n",
        "r2_test = r2_score(y_test, y_test_pred)\n",
        "\n"
      ],
      "metadata": {
        "id": "FvtDO5IATZVc"
      },
      "execution_count": 122,
      "outputs": []
    },
    {
      "cell_type": "code",
      "source": [
        "print(f\"Validation -> MSE: {mse_val:.4f} | RMSE: {rmse_val:.4f} | R²: {r2_val:.4f}\")\n",
        "print(f\"Test       -> MSE: {mse_test:.4f} | RMSE: {rmse_test:.4f} | R²: {r2_test:.4f}\")"
      ],
      "metadata": {
        "colab": {
          "base_uri": "https://localhost:8080/"
        },
        "id": "Mxr-XmCUTblN",
        "outputId": "73d5863a-40f9-44f8-8694-0df93e6d6bb4"
      },
      "execution_count": 123,
      "outputs": [
        {
          "output_type": "stream",
          "name": "stdout",
          "text": [
            "Validation -> MSE: 25.1371 | RMSE: 5.0137 | R²: 0.8314\n",
            "Test       -> MSE: 22.8644 | RMSE: 4.7817 | R²: 0.8593\n"
          ]
        }
      ]
    },
    {
      "cell_type": "code",
      "source": [
        "feature_importances = pd.Series(rf_model.feature_importances_, index=X.columns).sort_values(ascending=False)\n",
        "\n",
        "print(\"\\n--- Özellik Önem Dereceleri ---\")\n",
        "print(feature_importances)\n",
        "\n",
        "# Özellik önem derecelerini görselleştirme\n",
        "plt.figure(figsize=(12, 8))\n",
        "sns.barplot(x=feature_importances, y=feature_importances.index)\n",
        "plt.title('Özellik Önem Dereceleri')\n",
        "plt.xlabel('Önem Derecesi')\n",
        "plt.ylabel('Özellik Adı')\n",
        "plt.show()"
      ],
      "metadata": {
        "colab": {
          "base_uri": "https://localhost:8080/",
          "height": 1000
        },
        "id": "qFfzIWxfTiDK",
        "outputId": "b0f7e333-8460-403b-ca04-7be8f8716c5c"
      },
      "execution_count": 125,
      "outputs": [
        {
          "output_type": "stream",
          "name": "stdout",
          "text": [
            "\n",
            "--- Özellik Önem Dereceleri ---\n",
            "acc_pos                             0.505717\n",
            "acc_neg                             0.300849\n",
            "dist_m                              0.107111\n",
            "speed_ms                            0.050284\n",
            "slope_pct                           0.011939\n",
            "soc_pc                              0.007997\n",
            "CdA                                 0.001894\n",
            "constantPowerIntake                 0.001891\n",
            "recuperationEfficiency              0.001879\n",
            "rotatingMass                        0.001870\n",
            "maximumPower                        0.001852\n",
            "device.battery.maximumChargeRate    0.001831\n",
            "radialDragCoefficient               0.001592\n",
            "mass_kg                             0.001574\n",
            "propulsionEfficiency                0.001278\n",
            "rollDragCoefficient                 0.000440\n",
            "dtype: float64\n"
          ]
        },
        {
          "output_type": "display_data",
          "data": {
            "text/plain": [
              "<Figure size 1200x800 with 1 Axes>"
            ],
            "image/png": "[encoded data removed]"
          },
          "metadata": {}
        }
      ]
    },
    {
      "cell_type": "code",
      "source": [
        "from sklearn.model_selection import RandomizedSearchCV\n",
        "\n",
        "# Random Forest için ayarlanacak hiperparametrelerin aralıklarını belirleme\n",
        "param_grid = {\n",
        "    'max_features': ['sqrt', 'log2'],\n",
        "    'max_depth': [10, 20, 30, 40, 50, None],\n",
        "    'min_samples_split': [2, 5, 10],\n",
        "    'min_samples_leaf': [1, 2, 4],\n",
        "    'bootstrap': [True, False]\n",
        "}\n",
        "\n",
        "# Randomized Search ile en iyi hiperparametreleri bulma\n",
        "# n_iter: Denenecek farklı parametre kombinasyonu sayısı\n",
        "# cv: K-katlı çapraz doğrulama sayısı\n",
        "rf_random = RandomizedSearchCV(estimator=RandomForestRegressor(n_estimators=100,random_state=42),\n",
        "                               param_distributions=param_grid,\n",
        "                               n_iter=50,\n",
        "                               cv=3,\n",
        "                               scoring='neg_mean_squared_error',\n",
        "                               verbose=2,\n",
        "                               random_state=42,\n",
        "                               n_jobs=-1)\n",
        "\n"
      ],
      "metadata": {
        "id": "wk3gC8khqECq"
      },
      "execution_count": 126,
      "outputs": []
    },
    {
      "cell_type": "code",
      "source": [
        "rf_random.fit(X_train, y_train)"
      ],
      "metadata": {
        "colab": {
          "base_uri": "https://localhost:8080/"
        },
        "id": "b_qrzZ_gsW4n",
        "outputId": "b5071ae4-d12a-4a47-a57c-57768f76f530"
      },
      "execution_count": null,
      "outputs": [
        {
          "output_type": "stream",
          "name": "stdout",
          "text": [
            "Fitting 3 folds for each of 50 candidates, totalling 150 fits\n"
          ]
        }
      ]
    },
    {
      "cell_type": "code",
      "source": [
        "print(\"\\nEn iyi parametreler:\", rf_random.best_params_)"
      ],
      "metadata": {
        "id": "wLKGb2nxsfL5"
      },
      "execution_count": null,
      "outputs": []
    },
    {
      "cell_type": "code",
      "source": [
        "best_rf_model = rf_random.best_estimator_\n",
        "\n",
        "y_val_pred = best_rf_model.predict(X_val)\n",
        "y_test_pred = best_rf_model.predict(X_test)"
      ],
      "metadata": {
        "id": "lfY3LHc4sip1"
      },
      "execution_count": null,
      "outputs": []
    },
    {
      "cell_type": "code",
      "source": [
        "# --- MSE ve RMSE ---\n",
        "mse_val = mean_squared_error(y_val, y_val_pred)\n",
        "rmse_val = np.sqrt(mse_val)\n",
        "r2_val = r2_score(y_val, y_val_pred)\n",
        "\n",
        "\n",
        "mse_test = mean_squared_error(y_test, y_test_pred)\n",
        "rmse_test = np.sqrt(mse_test)\n",
        "r2_test = r2_score(y_test, y_test_pred)\n"
      ],
      "metadata": {
        "id": "KD9fZCf4su7z"
      },
      "execution_count": null,
      "outputs": []
    },
    {
      "cell_type": "code",
      "source": [
        "print(f\"Validation -> MSE: {mse_val:.4f} | RMSE: {rmse_val:.4f} | R²: {r2_val:.4f}\")\n",
        "print(f\"Test       -> MSE: {mse_test:.4f} | RMSE: {rmse_test:.4f} | R²: {r2_test:.4f}\")"
      ],
      "metadata": {
        "id": "yUMXtie4s4Ej"
      },
      "execution_count": null,
      "outputs": []
    }
  ]
}