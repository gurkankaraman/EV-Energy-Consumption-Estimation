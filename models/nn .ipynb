{
  "nbformat": 4,
  "nbformat_minor": 0,
  "metadata": {
    "colab": {
      "provenance": [],
      "gpuType": "L4"
    },
    "kernelspec": {
      "name": "python3",
      "display_name": "Python 3"
    },
    "language_info": {
      "name": "python"
    },
    "accelerator": "GPU"
  },
  "cells": [
    {
      "cell_type": "markdown",
      "source": [
        "# NN\n",
        "Bu not defteri, elektrikli araçların enerji tüketimini tahmin etmek için oluşturulmuş NN modeli oluşturma sürecini detaylandırmaktadır.\n"
      ],
      "metadata": {
        "id": "ucqPgAkQvcy1"
      }
    },
    {
      "cell_type": "markdown",
      "source": [],
      "metadata": {
        "id": "sVaxl0o5un6o"
      }
    },
    {
      "cell_type": "markdown",
      "source": [
        "### 1. Kütüphaneleri Yükleme"
      ],
      "metadata": {
        "id": "Jbi5kFM-7lSD"
      }
    },
    {
      "cell_type": "code",
      "source": [
        "import pandas as pd\n",
        "import numpy as np\n",
        "import torch\n",
        "import torch.nn as nn\n",
        "import torch.optim as optim\n",
        "from torch.utils.data import DataLoader, Dataset\n",
        "from sklearn.preprocessing import StandardScaler\n",
        "import seaborn as sns\n",
        "import matplotlib.pyplot as plt\n",
        "from sklearn.ensemble import RandomForestRegressor\n",
        "from sklearn.model_selection import GroupShuffleSplit\n",
        "from sklearn.metrics import mean_absolute_error, mean_squared_error, r2_score\n",
        "import math\n",
        "import joblib\n",
        "import random"
      ],
      "metadata": {
        "id": "xpQqQK14Pxqo"
      },
      "execution_count": null,
      "outputs": []
    },
    {
      "cell_type": "code",
      "source": [
        "# Seed ayarı (tekrar üretilebilirlik için)\n",
        "SEED = 42\n",
        "torch.manual_seed(SEED)\n",
        "np.random.seed(SEED)\n",
        "random.seed(SEED)"
      ],
      "metadata": {
        "id": "YMKyucZ_0Q7b"
      },
      "execution_count": null,
      "outputs": []
    },
    {
      "cell_type": "markdown",
      "source": [
        "### 2. Veri Yükleme ve Ön İnceleme\n"
      ],
      "metadata": {
        "id": "ndzcvWcL7zc3"
      }
    },
    {
      "cell_type": "code",
      "source": [
        "df = pd.read_csv('final_training_data.csv')\n",
        "df.head(3)"
      ],
      "metadata": {
        "colab": {
          "base_uri": "https://localhost:8080/",
          "height": 193
        },
        "id": "JRlsj1egTntN",
        "outputId": "3d40d7e3-409b-4495-bb01-38e0ff8fa082"
      },
      "execution_count": null,
      "outputs": [
        {
          "output_type": "execute_result",
          "data": {
            "text/plain": [
              "   timestamp vehicle_id  speed_kmh        lat        lon           z  \\\n",
              "0          2       veh1      0.000  39.751093  30.502114  825.839847   \n",
              "1          3       veh1     13.824  39.751061  30.502096  825.898326   \n",
              "2          4       veh1     27.648  39.750998  30.502060  826.015284   \n",
              "\n",
              "   acceleration  mass_kg     soc_pc  energy_consumption  ...  \\\n",
              "0          0.00   1916.0  91.741386                0.00  ...   \n",
              "1          3.84   1916.0  91.736124                4.93  ...   \n",
              "2          3.84   1916.0  91.721126               14.04  ...   \n",
              "\n",
              "   device.battery.capacity  frontSurfaceArea  recuperationEfficiency  \\\n",
              "0                  93684.0              2.45                    0.93   \n",
              "1                  93684.0              2.45                    0.93   \n",
              "2                  93684.0              2.45                    0.93   \n",
              "\n",
              "   maximumPower  device.battery.maximumChargeRate  rollDragCoefficient  \\\n",
              "0      187368.0                          138421.0                 0.01   \n",
              "1      187368.0                          138421.0                 0.01   \n",
              "2      187368.0                          138421.0                 0.01   \n",
              "\n",
              "   rotatingMass  radialDragCoefficient    dist_m  slope_pct  \n",
              "0          38.0                  0.445       NaN        NaN  \n",
              "1          38.0                  0.445  3.842938   1.521728  \n",
              "2          38.0                  0.445  7.685875   1.521728  \n",
              "\n",
              "[3 rows x 25 columns]"
            ],
            "text/html": [
              "\n",
              "  <div id=\"df-ecd9ad31-db52-41c3-9a2f-b3e4dfaa97a9\" class=\"colab-df-container\">\n",
              "    <div>\n",
              "<style scoped>\n",
              "    .dataframe tbody tr th:only-of-type {\n",
              "        vertical-align: middle;\n",
              "    }\n",
              "\n",
              "    .dataframe tbody tr th {\n",
              "        vertical-align: top;\n",
              "    }\n",
              "\n",
              "    .dataframe thead th {\n",
              "        text-align: right;\n",
              "    }\n",
              "</style>\n",
              "<table border=\"1\" class=\"dataframe\">\n",
              "  <thead>\n",
              "    <tr style=\"text-align: right;\">\n",
              "      <th></th>\n",
              "      <th>timestamp</th>\n",
              "      <th>vehicle_id</th>\n",
              "      <th>speed_kmh</th>\n",
              "      <th>lat</th>\n",
              "      <th>lon</th>\n",
              "      <th>z</th>\n",
              "      <th>acceleration</th>\n",
              "      <th>mass_kg</th>\n",
              "      <th>soc_pc</th>\n",
              "      <th>energy_consumption</th>\n",
              "      <th>...</th>\n",
              "      <th>device.battery.capacity</th>\n",
              "      <th>frontSurfaceArea</th>\n",
              "      <th>recuperationEfficiency</th>\n",
              "      <th>maximumPower</th>\n",
              "      <th>device.battery.maximumChargeRate</th>\n",
              "      <th>rollDragCoefficient</th>\n",
              "      <th>rotatingMass</th>\n",
              "      <th>radialDragCoefficient</th>\n",
              "      <th>dist_m</th>\n",
              "      <th>slope_pct</th>\n",
              "    </tr>\n",
              "  </thead>\n",
              "  <tbody>\n",
              "    <tr>\n",
              "      <th>0</th>\n",
              "      <td>2</td>\n",
              "      <td>veh1</td>\n",
              "      <td>0.000</td>\n",
              "      <td>39.751093</td>\n",
              "      <td>30.502114</td>\n",
              "      <td>825.839847</td>\n",
              "      <td>0.00</td>\n",
              "      <td>1916.0</td>\n",
              "      <td>91.741386</td>\n",
              "      <td>0.00</td>\n",
              "      <td>...</td>\n",
              "      <td>93684.0</td>\n",
              "      <td>2.45</td>\n",
              "      <td>0.93</td>\n",
              "      <td>187368.0</td>\n",
              "      <td>138421.0</td>\n",
              "      <td>0.01</td>\n",
              "      <td>38.0</td>\n",
              "      <td>0.445</td>\n",
              "      <td>NaN</td>\n",
              "      <td>NaN</td>\n",
              "    </tr>\n",
              "    <tr>\n",
              "      <th>1</th>\n",
              "      <td>3</td>\n",
              "      <td>veh1</td>\n",
              "      <td>13.824</td>\n",
              "      <td>39.751061</td>\n",
              "      <td>30.502096</td>\n",
              "      <td>825.898326</td>\n",
              "      <td>3.84</td>\n",
              "      <td>1916.0</td>\n",
              "      <td>91.736124</td>\n",
              "      <td>4.93</td>\n",
              "      <td>...</td>\n",
              "      <td>93684.0</td>\n",
              "      <td>2.45</td>\n",
              "      <td>0.93</td>\n",
              "      <td>187368.0</td>\n",
              "      <td>138421.0</td>\n",
              "      <td>0.01</td>\n",
              "      <td>38.0</td>\n",
              "      <td>0.445</td>\n",
              "      <td>3.842938</td>\n",
              "      <td>1.521728</td>\n",
              "    </tr>\n",
              "    <tr>\n",
              "      <th>2</th>\n",
              "      <td>4</td>\n",
              "      <td>veh1</td>\n",
              "      <td>27.648</td>\n",
              "      <td>39.750998</td>\n",
              "      <td>30.502060</td>\n",
              "      <td>826.015284</td>\n",
              "      <td>3.84</td>\n",
              "      <td>1916.0</td>\n",
              "      <td>91.721126</td>\n",
              "      <td>14.04</td>\n",
              "      <td>...</td>\n",
              "      <td>93684.0</td>\n",
              "      <td>2.45</td>\n",
              "      <td>0.93</td>\n",
              "      <td>187368.0</td>\n",
              "      <td>138421.0</td>\n",
              "      <td>0.01</td>\n",
              "      <td>38.0</td>\n",
              "      <td>0.445</td>\n",
              "      <td>7.685875</td>\n",
              "      <td>1.521728</td>\n",
              "    </tr>\n",
              "  </tbody>\n",
              "</table>\n",
              "<p>3 rows × 25 columns</p>\n",
              "</div>\n",
              "    <div class=\"colab-df-buttons\">\n",
              "\n",
              "  <div class=\"colab-df-container\">\n",
              "    <button class=\"colab-df-convert\" onclick=\"convertToInteractive('df-ecd9ad31-db52-41c3-9a2f-b3e4dfaa97a9')\"\n",
              "            title=\"Convert this dataframe to an interactive table.\"\n",
              "            style=\"display:none;\">\n",
              "\n",
              "  <svg xmlns=\"http://www.w3.org/2000/svg\" height=\"24px\" viewBox=\"0 -960 960 960\">\n",
              "    <path d=\"M120-120v-720h720v720H120Zm60-500h600v-160H180v160Zm220 220h160v-160H400v160Zm0 220h160v-160H400v160ZM180-400h160v-160H180v160Zm440 0h160v-160H620v160ZM180-180h160v-160H180v160Zm440 0h160v-160H620v160Z\"/>\n",
              "  </svg>\n",
              "    </button>\n",
              "\n",
              "  <style>\n",
              "    .colab-df-container {\n",
              "      display:flex;\n",
              "      gap: 12px;\n",
              "    }\n",
              "\n",
              "    .colab-df-convert {\n",
              "      background-color: #E8F0FE;\n",
              "      border: none;\n",
              "      border-radius: 50%;\n",
              "      cursor: pointer;\n",
              "      display: none;\n",
              "      fill: #1967D2;\n",
              "      height: 32px;\n",
              "      padding: 0 0 0 0;\n",
              "      width: 32px;\n",
              "    }\n",
              "\n",
              "    .colab-df-convert:hover {\n",
              "      background-color: #E2EBFA;\n",
              "      box-shadow: 0px 1px 2px rgba(60, 64, 67, 0.3), 0px 1px 3px 1px rgba(60, 64, 67, 0.15);\n",
              "      fill: #174EA6;\n",
              "    }\n",
              "\n",
              "    .colab-df-buttons div {\n",
              "      margin-bottom: 4px;\n",
              "    }\n",
              "\n",
              "    [theme=dark] .colab-df-convert {\n",
              "      background-color: #3B4455;\n",
              "      fill: #D2E3FC;\n",
              "    }\n",
              "\n",
              "    [theme=dark] .colab-df-convert:hover {\n",
              "      background-color: #434B5C;\n",
              "      box-shadow: 0px 1px 3px 1px rgba(0, 0, 0, 0.15);\n",
              "      filter: drop-shadow(0px 1px 2px rgba(0, 0, 0, 0.3));\n",
              "      fill: #FFFFFF;\n",
              "    }\n",
              "  </style>\n",
              "\n",
              "    <script>\n",
              "      const buttonEl =\n",
              "        document.querySelector('#df-ecd9ad31-db52-41c3-9a2f-b3e4dfaa97a9 button.colab-df-convert');\n",
              "      buttonEl.style.display =\n",
              "        google.colab.kernel.accessAllowed ? 'block' : 'none';\n",
              "\n",
              "      async function convertToInteractive(key) {\n",
              "        const element = document.querySelector('#df-ecd9ad31-db52-41c3-9a2f-b3e4dfaa97a9');\n",
              "        const dataTable =\n",
              "          await google.colab.kernel.invokeFunction('convertToInteractive',\n",
              "                                                    [key], {});\n",
              "        if (!dataTable) return;\n",
              "\n",
              "        const docLinkHtml = 'Like what you see? Visit the ' +\n",
              "          '<a target=\"_blank\" href=https://colab.research.google.com/notebooks/data_table.ipynb>data table notebook</a>'\n",
              "          + ' to learn more about interactive tables.';\n",
              "        element.innerHTML = '';\n",
              "        dataTable['output_type'] = 'display_data';\n",
              "        await google.colab.output.renderOutput(dataTable, element);\n",
              "        const docLink = document.createElement('div');\n",
              "        docLink.innerHTML = docLinkHtml;\n",
              "        element.appendChild(docLink);\n",
              "      }\n",
              "    </script>\n",
              "  </div>\n",
              "\n",
              "\n",
              "    <div id=\"df-bae49a90-44ae-43b7-b5a3-3ea059c8efb3\">\n",
              "      <button class=\"colab-df-quickchart\" onclick=\"quickchart('df-bae49a90-44ae-43b7-b5a3-3ea059c8efb3')\"\n",
              "                title=\"Suggest charts\"\n",
              "                style=\"display:none;\">\n",
              "\n",
              "<svg xmlns=\"http://www.w3.org/2000/svg\" height=\"24px\"viewBox=\"0 0 24 24\"\n",
              "     width=\"24px\">\n",
              "    <g>\n",
              "        <path d=\"M19 3H5c-1.1 0-2 .9-2 2v14c0 1.1.9 2 2 2h14c1.1 0 2-.9 2-2V5c0-1.1-.9-2-2-2zM9 17H7v-7h2v7zm4 0h-2V7h2v10zm4 0h-2v-4h2v4z\"/>\n",
              "    </g>\n",
              "</svg>\n",
              "      </button>\n",
              "\n",
              "<style>\n",
              "  .colab-df-quickchart {\n",
              "      --bg-color: #E8F0FE;\n",
              "      --fill-color: #1967D2;\n",
              "      --hover-bg-color: #E2EBFA;\n",
              "      --hover-fill-color: #174EA6;\n",
              "      --disabled-fill-color: #AAA;\n",
              "      --disabled-bg-color: #DDD;\n",
              "  }\n",
              "\n",
              "  [theme=dark] .colab-df-quickchart {\n",
              "      --bg-color: #3B4455;\n",
              "      --fill-color: #D2E3FC;\n",
              "      --hover-bg-color: #434B5C;\n",
              "      --hover-fill-color: #FFFFFF;\n",
              "      --disabled-bg-color: #3B4455;\n",
              "      --disabled-fill-color: #666;\n",
              "  }\n",
              "\n",
              "  .colab-df-quickchart {\n",
              "    background-color: var(--bg-color);\n",
              "    border: none;\n",
              "    border-radius: 50%;\n",
              "    cursor: pointer;\n",
              "    display: none;\n",
              "    fill: var(--fill-color);\n",
              "    height: 32px;\n",
              "    padding: 0;\n",
              "    width: 32px;\n",
              "  }\n",
              "\n",
              "  .colab-df-quickchart:hover {\n",
              "    background-color: var(--hover-bg-color);\n",
              "    box-shadow: 0 1px 2px rgba(60, 64, 67, 0.3), 0 1px 3px 1px rgba(60, 64, 67, 0.15);\n",
              "    fill: var(--button-hover-fill-color);\n",
              "  }\n",
              "\n",
              "  .colab-df-quickchart-complete:disabled,\n",
              "  .colab-df-quickchart-complete:disabled:hover {\n",
              "    background-color: var(--disabled-bg-color);\n",
              "    fill: var(--disabled-fill-color);\n",
              "    box-shadow: none;\n",
              "  }\n",
              "\n",
              "  .colab-df-spinner {\n",
              "    border: 2px solid var(--fill-color);\n",
              "    border-color: transparent;\n",
              "    border-bottom-color: var(--fill-color);\n",
              "    animation:\n",
              "      spin 1s steps(1) infinite;\n",
              "  }\n",
              "\n",
              "  @keyframes spin {\n",
              "    0% {\n",
              "      border-color: transparent;\n",
              "      border-bottom-color: var(--fill-color);\n",
              "      border-left-color: var(--fill-color);\n",
              "    }\n",
              "    20% {\n",
              "      border-color: transparent;\n",
              "      border-left-color: var(--fill-color);\n",
              "      border-top-color: var(--fill-color);\n",
              "    }\n",
              "    30% {\n",
              "      border-color: transparent;\n",
              "      border-left-color: var(--fill-color);\n",
              "      border-top-color: var(--fill-color);\n",
              "      border-right-color: var(--fill-color);\n",
              "    }\n",
              "    40% {\n",
              "      border-color: transparent;\n",
              "      border-right-color: var(--fill-color);\n",
              "      border-top-color: var(--fill-color);\n",
              "    }\n",
              "    60% {\n",
              "      border-color: transparent;\n",
              "      border-right-color: var(--fill-color);\n",
              "    }\n",
              "    80% {\n",
              "      border-color: transparent;\n",
              "      border-right-color: var(--fill-color);\n",
              "      border-bottom-color: var(--fill-color);\n",
              "    }\n",
              "    90% {\n",
              "      border-color: transparent;\n",
              "      border-bottom-color: var(--fill-color);\n",
              "    }\n",
              "  }\n",
              "</style>\n",
              "\n",
              "      <script>\n",
              "        async function quickchart(key) {\n",
              "          const quickchartButtonEl =\n",
              "            document.querySelector('#' + key + ' button');\n",
              "          quickchartButtonEl.disabled = true;  // To prevent multiple clicks.\n",
              "          quickchartButtonEl.classList.add('colab-df-spinner');\n",
              "          try {\n",
              "            const charts = await google.colab.kernel.invokeFunction(\n",
              "                'suggestCharts', [key], {});\n",
              "          } catch (error) {\n",
              "            console.error('Error during call to suggestCharts:', error);\n",
              "          }\n",
              "          quickchartButtonEl.classList.remove('colab-df-spinner');\n",
              "          quickchartButtonEl.classList.add('colab-df-quickchart-complete');\n",
              "        }\n",
              "        (() => {\n",
              "          let quickchartButtonEl =\n",
              "            document.querySelector('#df-bae49a90-44ae-43b7-b5a3-3ea059c8efb3 button');\n",
              "          quickchartButtonEl.style.display =\n",
              "            google.colab.kernel.accessAllowed ? 'block' : 'none';\n",
              "        })();\n",
              "      </script>\n",
              "    </div>\n",
              "\n",
              "    </div>\n",
              "  </div>\n"
            ],
            "application/vnd.google.colaboratory.intrinsic+json": {
              "type": "dataframe",
              "variable_name": "df"
            }
          },
          "metadata": {},
          "execution_count": 3
        }
      ]
    },
    {
      "cell_type": "code",
      "source": [
        "print(\"Orijinal veri boyutu:\", df.shape)\n",
        "print(\"Araç sayısı:\", df['vehicle_id'].nunique())\n",
        "print(\"Eksik veri durumu:\")\n",
        "print(df.isnull().sum())"
      ],
      "metadata": {
        "colab": {
          "base_uri": "https://localhost:8080/"
        },
        "id": "iWk6zM8ZNnZ3",
        "outputId": "920a530b-b461-4a26-c250-c82c3b78c995"
      },
      "execution_count": null,
      "outputs": [
        {
          "output_type": "stream",
          "name": "stdout",
          "text": [
            "Orijinal veri boyutu: (481411, 25)\n",
            "Araç sayısı: 300\n",
            "Eksik veri durumu:\n",
            "timestamp                                0\n",
            "vehicle_id                               0\n",
            "speed_kmh                                0\n",
            "lat                                      0\n",
            "lon                                      0\n",
            "z                                        0\n",
            "acceleration                             0\n",
            "mass_kg                                  0\n",
            "soc_pc                                   0\n",
            "energy_consumption                       0\n",
            "accel                                    0\n",
            "decel                                    0\n",
            "propulsionEfficiency                     0\n",
            "airDragCoefficient                       0\n",
            "constantPowerIntake                      0\n",
            "device.battery.capacity                  0\n",
            "frontSurfaceArea                         0\n",
            "recuperationEfficiency                   0\n",
            "maximumPower                             0\n",
            "device.battery.maximumChargeRate         0\n",
            "rollDragCoefficient                      0\n",
            "rotatingMass                             0\n",
            "radialDragCoefficient                    0\n",
            "dist_m                                 300\n",
            "slope_pct                           119640\n",
            "dtype: int64\n"
          ]
        }
      ]
    },
    {
      "cell_type": "code",
      "source": [
        "# 'dist_m' sütunundaki NaN değerleri 0 ile doldurur\n",
        "df['dist_m'] = df['dist_m'].fillna(0)\n",
        "\n",
        "# 'slope_pct' sütunundaki NaN değerleri 0 ile doldurur\n",
        "df['slope_pct'] = df['slope_pct'].fillna(0)"
      ],
      "metadata": {
        "id": "uu8Tf3L0rGbi"
      },
      "execution_count": null,
      "outputs": []
    },
    {
      "cell_type": "code",
      "source": [
        "print(df.isnull().sum())"
      ],
      "metadata": {
        "colab": {
          "base_uri": "https://localhost:8080/"
        },
        "id": "cDpsrTdsrYQU",
        "outputId": "b73e3c69-78a8-4241-db3b-218527643a45"
      },
      "execution_count": null,
      "outputs": [
        {
          "output_type": "stream",
          "name": "stdout",
          "text": [
            "timestamp                           0\n",
            "vehicle_id                          0\n",
            "speed_kmh                           0\n",
            "lat                                 0\n",
            "lon                                 0\n",
            "z                                   0\n",
            "acceleration                        0\n",
            "mass_kg                             0\n",
            "soc_pc                              0\n",
            "energy_consumption                  0\n",
            "accel                               0\n",
            "decel                               0\n",
            "propulsionEfficiency                0\n",
            "airDragCoefficient                  0\n",
            "constantPowerIntake                 0\n",
            "device.battery.capacity             0\n",
            "frontSurfaceArea                    0\n",
            "recuperationEfficiency              0\n",
            "maximumPower                        0\n",
            "device.battery.maximumChargeRate    0\n",
            "rollDragCoefficient                 0\n",
            "rotatingMass                        0\n",
            "radialDragCoefficient               0\n",
            "dist_m                              0\n",
            "slope_pct                           0\n",
            "dtype: int64\n"
          ]
        }
      ]
    },
    {
      "cell_type": "code",
      "source": [
        "df.info()"
      ],
      "metadata": {
        "colab": {
          "base_uri": "https://localhost:8080/"
        },
        "id": "vm5U6d2RQP0V",
        "outputId": "c3fe8ba0-06ed-4f36-9175-20f81f7da6d9"
      },
      "execution_count": null,
      "outputs": [
        {
          "output_type": "stream",
          "name": "stdout",
          "text": [
            "<class 'pandas.core.frame.DataFrame'>\n",
            "RangeIndex: 481411 entries, 0 to 481410\n",
            "Data columns (total 25 columns):\n",
            " #   Column                            Non-Null Count   Dtype  \n",
            "---  ------                            --------------   -----  \n",
            " 0   timestamp                         481411 non-null  int64  \n",
            " 1   vehicle_id                        481411 non-null  object \n",
            " 2   speed_kmh                         481411 non-null  float64\n",
            " 3   lat                               481411 non-null  float64\n",
            " 4   lon                               481411 non-null  float64\n",
            " 5   z                                 481411 non-null  float64\n",
            " 6   acceleration                      481411 non-null  float64\n",
            " 7   mass_kg                           481411 non-null  float64\n",
            " 8   soc_pc                            481411 non-null  float64\n",
            " 9   energy_consumption                481411 non-null  float64\n",
            " 10  accel                             481411 non-null  float64\n",
            " 11  decel                             481411 non-null  float64\n",
            " 12  propulsionEfficiency              481411 non-null  float64\n",
            " 13  airDragCoefficient                481411 non-null  float64\n",
            " 14  constantPowerIntake               481411 non-null  float64\n",
            " 15  device.battery.capacity           481411 non-null  float64\n",
            " 16  frontSurfaceArea                  481411 non-null  float64\n",
            " 17  recuperationEfficiency            481411 non-null  float64\n",
            " 18  maximumPower                      481411 non-null  float64\n",
            " 19  device.battery.maximumChargeRate  481411 non-null  float64\n",
            " 20  rollDragCoefficient               481411 non-null  float64\n",
            " 21  rotatingMass                      481411 non-null  float64\n",
            " 22  radialDragCoefficient             481411 non-null  float64\n",
            " 23  dist_m                            481411 non-null  float64\n",
            " 24  slope_pct                         481411 non-null  float64\n",
            "dtypes: float64(23), int64(1), object(1)\n",
            "memory usage: 91.8+ MB\n"
          ]
        }
      ]
    },
    {
      "cell_type": "markdown",
      "source": [
        "### 3. Özellik Mühendisliği (Feature Engineering)\n"
      ],
      "metadata": {
        "id": "RLt4QrPx7-kv"
      }
    },
    {
      "cell_type": "markdown",
      "source": [
        "* **İvme Ayrımı:** İvme değeri (acceleration) pozitif ve negatif olmak üzere iki ayrı sütuna (acc_pos, acc_neg) ayrılır. Bu, pozitif ivmenin (hızlanma) enerji tüketimini artırdığı, negatif ivmenin (yavaşlama/fren) ise rejeneratif enerji kazanımı sağlayabileceği bilgisini modele daha açık bir şekilde iletmemizi sağlar."
      ],
      "metadata": {
        "id": "BGW1U8Cn8Ejp"
      }
    },
    {
      "cell_type": "code",
      "source": [
        "df[\"acc_pos\"] = df[\"acceleration\"].clip(lower=0)\n",
        "df[\"acc_neg\"] = (-df[\"acceleration\"]).clip(lower=0)"
      ],
      "metadata": {
        "id": "G8vfiJnWOSeo"
      },
      "execution_count": null,
      "outputs": []
    },
    {
      "cell_type": "markdown",
      "source": [
        "* **Hız Birimi Dönüşümü:** Hız (speed_kmh) birimi km/h'den m/s'ye (speed_ms) dönüştürülür. Fiziksel hesaplamalar için daha uygun bir birimdir.\n",
        "\n",
        "* **Aerodinamik Katsayı (CdA):** airDragCoefficient ve frontSurfaceArea sütunları birleştirilerek CdA adında yeni bir özellik oluşturulur. Bu iki değerin çarpımı, aerodinamik direncin doğrudan bir göstergesidir."
      ],
      "metadata": {
        "id": "LN25O2HU8JVL"
      }
    },
    {
      "cell_type": "code",
      "source": [
        "# Hız: m/s\n",
        "df[\"speed_ms\"] = df[\"speed_kmh\"] / 3.6\n",
        "\n",
        "# Aerodinamik: Cd * A\n",
        "df[\"CdA\"] = df[\"airDragCoefficient\"] * df[\"frontSurfaceArea\"]\n"
      ],
      "metadata": {
        "id": "gqYqAZRuUHiY"
      },
      "execution_count": null,
      "outputs": []
    },
    {
      "cell_type": "markdown",
      "source": [
        "### 4. Gereksiz Sütunları Kaldırma\n"
      ],
      "metadata": {
        "id": "XKJr-5Ud8YGu"
      }
    },
    {
      "cell_type": "code",
      "source": [
        "columns_to_drop = [\n",
        "    'timestamp',  # Zaman bilgisi\n",
        "    'lat', 'lon', 'z',  # GPS koordinatları\n",
        "    'accel','decel', 'acceleration',\n",
        "    'speed_kmh',\n",
        "    'device.battery.capacity',\n",
        "    'airDragCoefficient', 'frontSurfaceArea',\n",
        "\n",
        "]\n",
        "df = df.drop(columns=columns_to_drop)\n",
        "df.shape"
      ],
      "metadata": {
        "colab": {
          "base_uri": "https://localhost:8080/"
        },
        "id": "ajMXAI8ChW2V",
        "outputId": "0110d723-6b52-48c7-8167-5829f5e18cab"
      },
      "execution_count": null,
      "outputs": [
        {
          "output_type": "execute_result",
          "data": {
            "text/plain": [
              "(481411, 18)"
            ]
          },
          "metadata": {},
          "execution_count": 10
        }
      ]
    },
    {
      "cell_type": "code",
      "source": [
        "df.info()"
      ],
      "metadata": {
        "colab": {
          "base_uri": "https://localhost:8080/"
        },
        "id": "0GQzle_AhvdH",
        "outputId": "10b7c061-45ab-4806-b955-acea13bf04a9"
      },
      "execution_count": null,
      "outputs": [
        {
          "output_type": "stream",
          "name": "stdout",
          "text": [
            "<class 'pandas.core.frame.DataFrame'>\n",
            "RangeIndex: 481411 entries, 0 to 481410\n",
            "Data columns (total 18 columns):\n",
            " #   Column                            Non-Null Count   Dtype  \n",
            "---  ------                            --------------   -----  \n",
            " 0   vehicle_id                        481411 non-null  object \n",
            " 1   mass_kg                           481411 non-null  float64\n",
            " 2   soc_pc                            481411 non-null  float64\n",
            " 3   energy_consumption                481411 non-null  float64\n",
            " 4   propulsionEfficiency              481411 non-null  float64\n",
            " 5   constantPowerIntake               481411 non-null  float64\n",
            " 6   recuperationEfficiency            481411 non-null  float64\n",
            " 7   maximumPower                      481411 non-null  float64\n",
            " 8   device.battery.maximumChargeRate  481411 non-null  float64\n",
            " 9   rollDragCoefficient               481411 non-null  float64\n",
            " 10  rotatingMass                      481411 non-null  float64\n",
            " 11  radialDragCoefficient             481411 non-null  float64\n",
            " 12  dist_m                            481411 non-null  float64\n",
            " 13  slope_pct                         481411 non-null  float64\n",
            " 14  acc_pos                           481411 non-null  float64\n",
            " 15  acc_neg                           481411 non-null  float64\n",
            " 16  speed_ms                          481411 non-null  float64\n",
            " 17  CdA                               481411 non-null  float64\n",
            "dtypes: float64(17), object(1)\n",
            "memory usage: 66.1+ MB\n"
          ]
        }
      ]
    },
    {
      "cell_type": "markdown",
      "source": [
        "### 5. Veriyi Eğitim, Doğrulama ve Test Setlerine Ayırma\n"
      ],
      "metadata": {
        "id": "zLYRZhWb8i9e"
      }
    },
    {
      "cell_type": "markdown",
      "source": [
        "Aynı araca ait verilerin farklı setlere karışmasını engellemek için GroupShuffleSplit kullanılarak veriler eğitim, doğrulama ve test setlerine ayrılır. Bu sayede veri sızıntısının (data leakage) önüne geçilmiş olur."
      ],
      "metadata": {
        "id": "Yh9bSxT28q3r"
      }
    },
    {
      "cell_type": "code",
      "source": [
        "\n",
        "groups = df[\"vehicle_id\"]\n",
        "\n",
        "X = df.drop(columns=[ \"vehicle_id\", \"energy_consumption\"])\n",
        "y = df[\"energy_consumption\"]\n",
        "\n",
        "\n",
        "def group_split(X, y, groups, test_size=0.15, val_size=0.15, rs=42):\n",
        "    \"\"\"\n",
        "    X, y ve groups'u alır; önce TEST setini, sonra kalan içinden VALIDATION setini ayırır.\n",
        "    NOT: Aynı 'vehicle_id'ye ait TÜM satırlar ya train/val tarafında kalır ya da testte olur;\n",
        "         asla bir araca ait satırlar birden fazla parçaya bölünmez.\n",
        "    \"\"\"\n",
        "    gss = GroupShuffleSplit(n_splits=1, test_size=test_size, random_state=rs)\n",
        "    i_tr, i_te = next(gss.split(X, y, groups))\n",
        "    gss2 = GroupShuffleSplit(n_splits=1, test_size=val_size/(1-test_size), random_state=rs)\n",
        "    j_tr, j_val = next(gss2.split(X.iloc[i_tr], y.iloc[i_tr], groups.iloc[i_tr]))\n",
        "    tr_idx = X.iloc[i_tr].index[j_tr]; val_idx = X.iloc[i_tr].index[j_val]; te_idx = X.index[i_te]\n",
        "    return tr_idx, val_idx, te_idx\n",
        "\n",
        "train_idx, val_idx, test_idx = group_split(X, y, groups)\n",
        "X_train, y_train = X.loc[train_idx], y.loc[train_idx]\n",
        "X_val,   y_val   = X.loc[val_idx],   y.loc[val_idx]\n",
        "X_test,  y_test  = X.loc[test_idx],  y.loc[test_idx]\n",
        "print(f\"Split -> train:{len(train_idx)}, val:{len(val_idx)}, test:{len(test_idx)}\")\n",
        "print(\"\\nEğitim için kullanılacak özelliklerin bilgi özeti:\")\n",
        "X_train.info()"
      ],
      "metadata": {
        "colab": {
          "base_uri": "https://localhost:8080/"
        },
        "id": "X6bNtnFrXO6L",
        "outputId": "50743f25-906a-4c3d-ef06-f878e822313f"
      },
      "execution_count": null,
      "outputs": [
        {
          "output_type": "stream",
          "name": "stdout",
          "text": [
            "Split -> train:342307, val:72919, test:66185\n",
            "\n",
            "Eğitim için kullanılacak özelliklerin bilgi özeti:\n",
            "<class 'pandas.core.frame.DataFrame'>\n",
            "Index: 342307 entries, 0 to 481410\n",
            "Data columns (total 16 columns):\n",
            " #   Column                            Non-Null Count   Dtype  \n",
            "---  ------                            --------------   -----  \n",
            " 0   mass_kg                           342307 non-null  float64\n",
            " 1   soc_pc                            342307 non-null  float64\n",
            " 2   propulsionEfficiency              342307 non-null  float64\n",
            " 3   constantPowerIntake               342307 non-null  float64\n",
            " 4   recuperationEfficiency            342307 non-null  float64\n",
            " 5   maximumPower                      342307 non-null  float64\n",
            " 6   device.battery.maximumChargeRate  342307 non-null  float64\n",
            " 7   rollDragCoefficient               342307 non-null  float64\n",
            " 8   rotatingMass                      342307 non-null  float64\n",
            " 9   radialDragCoefficient             342307 non-null  float64\n",
            " 10  dist_m                            342307 non-null  float64\n",
            " 11  slope_pct                         342307 non-null  float64\n",
            " 12  acc_pos                           342307 non-null  float64\n",
            " 13  acc_neg                           342307 non-null  float64\n",
            " 14  speed_ms                          342307 non-null  float64\n",
            " 15  CdA                               342307 non-null  float64\n",
            "dtypes: float64(16)\n",
            "memory usage: 44.4 MB\n"
          ]
        }
      ]
    },
    {
      "cell_type": "markdown",
      "source": [
        "StandardScaler veri normalizasyonu yapan bir sınıftır. Her bir sütundaki verinin ortalamasını 0, standart sapmasını 1 olacak şekilde dönüştürür.\n",
        "Bu sayede tüm özellikler aynı ölçekten geldiği için modelin her feature’a eşit önem vermesi sağlanır.\n",
        "\n",
        "Biz fit işlemini sadece eğitim verisine yapıyoruz, çünkü validation veya test verisine uygularsak onların ortalama ve standart sapmasını öğrenmiş oluruz.\n",
        "Bu da modelin eğitim sırasında aslında görmemesi gereken bilgiyi kullanması anlamına gelir. İşte bu duruma data leakage (veri sızıntısı) deniyor. O yüzden:\n",
        "\n",
        "Eğitim setinde fit + transform yapıyoruz.\n",
        "\n",
        "Validation ve test setlerinde sadece transform yapıyoruz."
      ],
      "metadata": {
        "id": "HSeDIpbemd8B"
      }
    },
    {
      "cell_type": "code",
      "source": [
        "#Normalizasyon\n",
        "from sklearn.preprocessing import StandardScaler\n",
        "\n",
        "scaler = StandardScaler()\n",
        "X_train = scaler.fit_transform(X_train)\n",
        "X_val = scaler.transform(X_val)\n",
        "X_test = scaler.transform(X_test)"
      ],
      "metadata": {
        "id": "iteN5vBY1tVD"
      },
      "execution_count": null,
      "outputs": []
    },
    {
      "cell_type": "markdown",
      "source": [],
      "metadata": {
        "id": "p0CLkSjAnGjz"
      }
    },
    {
      "cell_type": "code",
      "source": [
        "#Dataset Sınıfı\n",
        "class EnergyDataset(Dataset):\n",
        "    # Veriyi tensör haline getirip DataLoader ile batch’ler halinde beslememize olanak sağlar.\n",
        "    def __init__(self, X, y):\n",
        "        self.X = torch.tensor(X.values if hasattr(X, 'values') else X, dtype=torch.float32)\n",
        "        self.y = torch.tensor(y.values if hasattr(y, 'values') else y, dtype=torch.float32).view(-1, 1)\n",
        "\n",
        "    def __len__(self):\n",
        "        return len(self.X)\n",
        "\n",
        "    def __getitem__(self, idx):\n",
        "        return self.X[idx], self.y[idx]"
      ],
      "metadata": {
        "id": "R_9WrjVI1tX3"
      },
      "execution_count": null,
      "outputs": []
    },
    {
      "cell_type": "code",
      "source": [
        "train_loader = DataLoader(EnergyDataset(X_train, y_train), batch_size=32, shuffle=True)\n",
        "val_loader = DataLoader(EnergyDataset(X_val, y_val), batch_size=32, shuffle=False)\n",
        "test_loader = DataLoader(EnergyDataset(X_test, y_test), batch_size=32, shuffle=False)"
      ],
      "metadata": {
        "id": "Eknb1I_W1tbO"
      },
      "execution_count": null,
      "outputs": []
    },
    {
      "cell_type": "markdown",
      "source": [
        "Giriş boyutundan başlayıp giderek küçülen (256 → 128 → 64) yapıya sahiptir.\n",
        "\n",
        "Enerji tüketimi tahmini için giriş verilerimiz normalleştirilmiş olduğu ve negatif değerler gelebileceği için, ReLU bu verilerden pozitif bölgede hızlı öğrenme sağlar. Ayrıca modelin eğitimi sırasında optimizasyonu kolaylaştırır.\n",
        "\n",
        "Katmanlar arasında BatchNorm kullanarak eğitimi hızlandırmayı ve daha stabil öğrenme sağlamayı hedefledik. Özellikle Dropout ile birlikte kullanıldığında, modelin genelleme kabiliyetini artırır.\n",
        "\n",
        "Dropout eğitim sırasında, her iterasyonda belirli oranda nöronun bağlantılarını rastgele kapatan bir regularizasyon tekniğidir ve enerji tüketimi tahmininde, modelin eğitim setindeki gürültüye veya belirli örneklere aşırı uyum sağlamasını engelliyor."
      ],
      "metadata": {
        "id": "iAD-xL3knllF"
      }
    },
    {
      "cell_type": "code",
      "source": [
        "#MLP modeli\n",
        "class MLP(nn.Module):\n",
        "    def __init__(self, input_size):\n",
        "        super(MLP, self).__init__()\n",
        "        self.model = nn.Sequential(\n",
        "            nn.Linear(input_size, 256),\n",
        "            nn.ReLU(),\n",
        "            nn.BatchNorm1d(256),\n",
        "            nn.Dropout(0.2),\n",
        "            nn.Linear(256, 128),\n",
        "            nn.ReLU(),\n",
        "            nn.BatchNorm1d(128),\n",
        "            nn.Dropout(0.15),\n",
        "            nn.Linear(128, 64),\n",
        "            nn.ReLU(),\n",
        "            nn.Linear(64, 1)\n",
        "        )\n",
        "\n",
        "    def forward(self, x):\n",
        "        return self.model(x)"
      ],
      "metadata": {
        "id": "J_1oREWI2IMb"
      },
      "execution_count": null,
      "outputs": []
    },
    {
      "cell_type": "code",
      "source": [
        "device = torch.device(\"cuda\" if torch.cuda.is_available() else \"cpu\")\n",
        "model = MLP(X_train.shape[1]).to(device)"
      ],
      "metadata": {
        "id": "GeV0fA-g2uir"
      },
      "execution_count": null,
      "outputs": []
    },
    {
      "cell_type": "markdown",
      "source": [
        "MSELoss (Mean Squared Error) regresyon problemleri için yaygın kullanılan kayıp fonksiyonudur. Tahmin ile gerçek değer arasındaki farkın karesini alır, ortalamasını hesaplar.\n",
        "\n",
        "Adam optimizer, momentum ve adaptif öğrenme oranı özelliklerini birleştirir.\n",
        "\n",
        "ReduceLROnPlateau: Doğrulama (validation) kaybı belirli bir süre (patience) boyunca iyileşmezse learning rate’i azaltır."
      ],
      "metadata": {
        "id": "DIsj2ForpHmt"
      }
    },
    {
      "cell_type": "code",
      "source": [
        "#Loss, optimizer, schedular\n",
        "criterion = nn.MSELoss()\n",
        "optimizer = optim.Adam(model.parameters(), lr=0.001, weight_decay=1e-5)\n",
        "scheduler = optim.lr_scheduler.ReduceLROnPlateau(optimizer,\n",
        "                                                 mode='min',  # validation kaybı minimuma inmeye çalışılır.\n",
        "                                                 factor=0.1,  # learning rate, iyileşme olmazsa mevcut değerinin %10’una düşürülür.\n",
        "                                                 patience=5,  # 5 epoch boyunca iyileşme olmazsa düşürme işlemi yapılır.\n",
        "                                                 verbose=True)"
      ],
      "metadata": {
        "id": "y2wXKAEK24uP"
      },
      "execution_count": null,
      "outputs": []
    },
    {
      "cell_type": "code",
      "source": [
        "#Eğitim döngüsü\n",
        "best_val = float('inf')\n",
        "patience, wait = 10, 0\n",
        "\n",
        "for epoch in range(25):\n",
        "    # Train\n",
        "    model.train()\n",
        "    for xb, yb in train_loader:\n",
        "        xb, yb = xb.to(device), yb.to(device)\n",
        "        optimizer.zero_grad()\n",
        "        loss = criterion(model(xb), yb)\n",
        "        loss.backward()\n",
        "        torch.nn.utils.clip_grad_norm_(model.parameters(), 1.0)\n",
        "        optimizer.step()\n",
        "\n",
        "    # Validation\n",
        "    model.eval()\n",
        "    y_true, y_pred = [], []\n",
        "    with torch.no_grad():\n",
        "        for xb, yb in val_loader:\n",
        "            preds = model(xb.to(device))\n",
        "            y_true.extend(yb.cpu().numpy())\n",
        "            y_pred.extend(preds.cpu().numpy())\n",
        "\n",
        "    val_mae = mean_absolute_error(y_true, y_pred)\n",
        "    val_rmse = math.sqrt(mean_squared_error(y_true, y_pred))\n",
        "    val_r2 = r2_score(y_true, y_pred)\n",
        "    scheduler.step(val_mae)\n",
        "\n",
        "    print(f\"Epoch {epoch+1} | Val MAE: {val_mae:.4f} | RMSE: {val_rmse:.4f} | R²: {val_r2:.4f}\")\n",
        "\n",
        "    # Early stopping\n",
        "    if val_mae < best_val:\n",
        "        best_val = val_mae\n",
        "        torch.save(model.state_dict(), \"best_mlp.pt\")\n",
        "        wait = 0\n",
        "    else:\n",
        "        wait += 1\n",
        "        if wait >= patience:\n",
        "            print(\"Early stopping.\")\n",
        "            break"
      ],
      "metadata": {
        "colab": {
          "base_uri": "https://localhost:8080/"
        },
        "id": "ALJ-ucKf3B9V",
        "outputId": "9f94502b-1295-4444-f80e-9a7d003ec415"
      },
      "execution_count": null,
      "outputs": [
        {
          "output_type": "stream",
          "name": "stdout",
          "text": [
            "Epoch 1 | Val MAE: 1.3362 | RMSE: 2.7021 | R²: 0.9477\n",
            "Epoch 2 | Val MAE: 1.1979 | RMSE: 2.5842 | R²: 0.9521\n",
            "Epoch 3 | Val MAE: 1.1366 | RMSE: 2.5319 | R²: 0.9541\n",
            "Epoch 4 | Val MAE: 0.9784 | RMSE: 2.4476 | R²: 0.9571\n",
            "Epoch 5 | Val MAE: 1.4135 | RMSE: 2.8037 | R²: 0.9437\n",
            "Epoch 6 | Val MAE: 1.1821 | RMSE: 2.5787 | R²: 0.9523\n",
            "Epoch 7 | Val MAE: 1.2446 | RMSE: 2.6105 | R²: 0.9512\n",
            "Epoch 8 | Val MAE: 1.1546 | RMSE: 2.5458 | R²: 0.9536\n",
            "Epoch 9 | Val MAE: 1.2589 | RMSE: 2.6176 | R²: 0.9509\n",
            "Epoch 10 | Val MAE: 1.0559 | RMSE: 2.4856 | R²: 0.9557\n",
            "Epoch 11 | Val MAE: 1.0646 | RMSE: 2.4882 | R²: 0.9556\n",
            "Epoch 12 | Val MAE: 1.3374 | RMSE: 2.7419 | R²: 0.9461\n",
            "Epoch 13 | Val MAE: 1.2142 | RMSE: 2.6070 | R²: 0.9513\n",
            "Epoch 14 | Val MAE: 1.2078 | RMSE: 2.5903 | R²: 0.9519\n",
            "Early stopping.\n"
          ]
        }
      ]
    },
    {
      "cell_type": "markdown",
      "source": [
        "### 7. Model Değerlendirme"
      ],
      "metadata": {
        "id": "eaIsO7JR9Iie"
      }
    },
    {
      "cell_type": "markdown",
      "source": [
        "Eğitilen model, doğrulama ve test setleri üzerinde tahminler yaparak performansı değerlendirilir. Mean Squared Error (MSE), Root Mean Squared Error (RMSE) ve R-kare (R²) metrikleri kullanılarak modelin başarısı ölçülür."
      ],
      "metadata": {
        "id": "tp4oxlvl9OZ2"
      }
    },
    {
      "cell_type": "code",
      "source": [
        "# ===== 9. Test değerlendirme =====\n",
        "model.load_state_dict(torch.load(\"best_mlp.pt\"))\n",
        "model.eval()\n",
        "y_true, y_pred = [], []\n",
        "with torch.no_grad():\n",
        "    for xb, yb in test_loader:\n",
        "        preds = model(xb.to(device))\n",
        "        y_true.extend(yb.cpu().numpy())\n",
        "        y_pred.extend(preds.cpu().numpy())\n",
        "\n",
        "test_mae = mean_absolute_error(y_true, y_pred)\n",
        "test_rmse = math.sqrt(mean_squared_error(y_true, y_pred))\n",
        "test_r2 = r2_score(y_true, y_pred)\n",
        "print(f\"Epoch {epoch+1} | TEST MAE: {test_mae:.4f} | RMSE: {test_rmse:.4f} | R²: {test_r2:.4f}\")\n"
      ],
      "metadata": {
        "colab": {
          "base_uri": "https://localhost:8080/"
        },
        "id": "wCs7_D4h3YAZ",
        "outputId": "6aedf993-ed21-47ad-e014-165c0d13dd16"
      },
      "execution_count": null,
      "outputs": [
        {
          "output_type": "stream",
          "name": "stdout",
          "text": [
            "Epoch 14 | Val MAE: 1.0478 | RMSE: 2.4693 | R²: 0.9657\n"
          ]
        }
      ]
    },
    {
      "cell_type": "markdown",
      "source": [
        "===========================================\n",
        "\n",
        "VALID set:\n",
        "\n",
        "MAE: 1.20\n",
        "\n",
        "RMSE: 2.59\n",
        "\n",
        "R²: 0.95\n",
        "\n",
        "=============================================\n",
        "\n",
        "TEST set:\n",
        "\n",
        "MAE: 1.04\n",
        "\n",
        "RMSE: 2.46\n",
        "\n",
        "R²: 0.96\n",
        "\n",
        "===========================================\n",
        "\n",
        "Test setinde performans daha iyi\n",
        "-> MAE ve RMSE testte daha düşük, R² daha yüksek → Model test verisinde validation’dan daha iyi çalışmış.\n",
        "\n",
        "Genelleme kabiliyeti yüksek\n",
        "-> Validation ve test skorları birbirine yakın, aşırı bir fark yok\n",
        "\n"
      ],
      "metadata": {
        "id": "tMclDuKTqsa-"
      }
    }
  ]
}